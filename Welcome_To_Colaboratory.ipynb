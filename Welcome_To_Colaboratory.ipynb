{
  "cells": [
    {
      "cell_type": "markdown",
      "metadata": {
        "id": "view-in-github",
        "colab_type": "text"
      },
      "source": [
        "<a href=\"https://colab.research.google.com/github/passantes12/Bachelor-p/blob/main/Welcome_To_Colaboratory.ipynb\" target=\"_parent\"><img src=\"https://colab.research.google.com/assets/colab-badge.svg\" alt=\"Open In Colab\"/></a>"
      ]
    },
    {
      "cell_type": "markdown",
      "source": [
        "# New Section"
      ],
      "metadata": {
        "id": "XHuLtm6sXOP1"
      }
    },
    {
      "cell_type": "code",
      "source": [
        "from google.colab import drive\n",
        "drive.mount('/content/drive')"
      ],
      "metadata": {
        "colab": {
          "base_uri": "https://localhost:8080/"
        },
        "id": "MzgDInMXbJQt",
        "outputId": "6caac3ce-3050-4a4b-da0a-d544c371c500"
      },
      "execution_count": 1,
      "outputs": [
        {
          "output_type": "stream",
          "name": "stdout",
          "text": [
            "Mounted at /content/drive\n"
          ]
        }
      ]
    },
    {
      "cell_type": "code",
      "source": [
        "import pandas as pd\n",
        "\n",
        "# Replace 'file_name.csv' with your actual file name\n",
        "df = pd.read_csv('/content/Historical Product Demand.csv')"
      ],
      "metadata": {
        "id": "8bsdOFl-bZwu"
      },
      "execution_count": 6,
      "outputs": []
    },
    {
      "cell_type": "code",
      "source": [
        "print(df.head())"
      ],
      "metadata": {
        "colab": {
          "base_uri": "https://localhost:8080/"
        },
        "id": "lYla9aRocjwR",
        "outputId": "a195ecb8-ae45-4e46-8c2a-e32ef7d702cb"
      },
      "execution_count": 7,
      "outputs": [
        {
          "output_type": "stream",
          "name": "stdout",
          "text": [
            "   Product_Code Warehouse Product_Category       Date  Order_Demand\n",
            "0  Product_0993    Whse_J     Category_028  2012/7/27         100.0\n",
            "1  Product_0979    Whse_J     Category_028  2012/1/19         500.0\n",
            "2  Product_0979    Whse_J     Category_028   2012/2/3         500.0\n",
            "3  Product_0979    Whse_J     Category_028   2012/2/9         500.0\n",
            "4  Product_0979    Whse_J     Category_028   2012/3/2         500.0\n"
          ]
        }
      ]
    },
    {
      "cell_type": "code",
      "source": [],
      "metadata": {
        "id": "9AGQcFqJcyUq"
      },
      "execution_count": null,
      "outputs": []
    }
  ],
  "metadata": {
    "colab": {
      "name": "Welcome To Colaboratory",
      "provenance": [],
      "include_colab_link": true
    },
    "kernelspec": {
      "display_name": "Python 3",
      "name": "python3"
    }
  },
  "nbformat": 4,
  "nbformat_minor": 0
}